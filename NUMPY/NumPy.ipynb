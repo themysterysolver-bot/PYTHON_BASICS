{
  "nbformat": 4,
  "nbformat_minor": 0,
  "metadata": {
    "colab": {
      "provenance": [],
      "authorship_tag": "ABX9TyP9XOM4G2T2R61H8sJ5uJyn",
      "include_colab_link": true
    },
    "kernelspec": {
      "name": "python3",
      "display_name": "Python 3"
    },
    "language_info": {
      "name": "python"
    }
  },
  "cells": [
    {
      "cell_type": "markdown",
      "metadata": {
        "id": "view-in-github",
        "colab_type": "text"
      },
      "source": [
        "<a href=\"https://colab.research.google.com/github/themysterysolver/PYTHON_BASICS/blob/main/NUMPY/NumPy.ipynb\" target=\"_parent\"><img src=\"https://colab.research.google.com/assets/colab-badge.svg\" alt=\"Open In Colab\"/></a>"
      ]
    },
    {
      "cell_type": "markdown",
      "source": [
        "# NumPy(Numerical Python)\n",
        "- NumPy is used for working with arrays.\n",
        "- It also has functions for working in domain of **linear algebra, fourier transform, and matrices.**\n",
        "- In Python we have *lists* that serve the purpose of arrays, but they are **slow to process**.\n",
        "- The **array object** in NumPy is called `ndarray`.\n",
        "\n",
        "# Why is NumPy Faster Than Lists?\n",
        "- NumPy arrays are stored at one continuous place in memory unlike lists, so processes can access and manipulate them very efficiently.\n",
        "- This behavior is called locality of reference in computer science."
      ],
      "metadata": {
        "id": "HjozGBPuZd4q"
      }
    },
    {
      "cell_type": "code",
      "source": [
        "import numpy as np\n",
        "print(np.__version__)"
      ],
      "metadata": {
        "colab": {
          "base_uri": "https://localhost:8080/"
        },
        "id": "M2CQjbBQZdd4",
        "outputId": "e7d3deda-3648-4199-822e-724da947db75"
      },
      "execution_count": 4,
      "outputs": [
        {
          "output_type": "stream",
          "name": "stdout",
          "text": [
            "1.26.4\n"
          ]
        }
      ]
    },
    {
      "cell_type": "code",
      "execution_count": 5,
      "metadata": {
        "colab": {
          "base_uri": "https://localhost:8080/"
        },
        "id": "7zR_9hYLZJkB",
        "outputId": "e39c7dc2-c911-4290-d5aa-5e4d920e2fac"
      },
      "outputs": [
        {
          "output_type": "stream",
          "name": "stdout",
          "text": [
            "[1 2 3 4 5] <class 'numpy.ndarray'>\n"
          ]
        }
      ],
      "source": [
        "arr=np.array([i for i in range(1,6)])\n",
        "print(arr,type(arr))"
      ]
    },
    {
      "cell_type": "code",
      "source": [
        "narr=[[False]*3 for _ in range(2)]\n",
        "print(type(narr),narr)\n",
        "narr=np.array(narr)\n",
        "print(type(narr),narr)"
      ],
      "metadata": {
        "id": "O4KK_J49cIG9",
        "colab": {
          "base_uri": "https://localhost:8080/"
        },
        "outputId": "8e795262-b17a-403e-f6ae-a8c195f62f77"
      },
      "execution_count": 6,
      "outputs": [
        {
          "output_type": "stream",
          "name": "stdout",
          "text": [
            "<class 'list'> [[False, False, False], [False, False, False]]\n",
            "<class 'numpy.ndarray'> [[False False False]\n",
            " [False False False]]\n"
          ]
        }
      ]
    },
    {
      "cell_type": "code",
      "source": [
        "print(narr.ndim)#dimension of array"
      ],
      "metadata": {
        "colab": {
          "base_uri": "https://localhost:8080/"
        },
        "id": "koBAmHoRcf5S",
        "outputId": "f2dc10ee-8c5e-4b7f-c407-ac9738b19cad"
      },
      "execution_count": 8,
      "outputs": [
        {
          "output_type": "stream",
          "name": "stdout",
          "text": [
            "2\n"
          ]
        }
      ]
    }
  ]
}