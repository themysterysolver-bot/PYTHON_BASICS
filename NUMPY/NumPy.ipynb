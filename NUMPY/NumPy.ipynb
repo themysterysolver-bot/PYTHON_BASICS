{
  "nbformat": 4,
  "nbformat_minor": 0,
  "metadata": {
    "colab": {
      "provenance": [],
      "authorship_tag": "ABX9TyPzyMoOMWnY52kOPJQNieXh",
      "include_colab_link": true
    },
    "kernelspec": {
      "name": "python3",
      "display_name": "Python 3"
    },
    "language_info": {
      "name": "python"
    }
  },
  "cells": [
    {
      "cell_type": "markdown",
      "metadata": {
        "id": "view-in-github",
        "colab_type": "text"
      },
      "source": [
        "<a href=\"https://colab.research.google.com/github/themysterysolver/PYTHON_BASICS/blob/main/NUMPY/NumPy.ipynb\" target=\"_parent\"><img src=\"https://colab.research.google.com/assets/colab-badge.svg\" alt=\"Open In Colab\"/></a>"
      ]
    },
    {
      "cell_type": "markdown",
      "source": [
        "# NumPy(Numerical Python)\n",
        "- NumPy is used for working with arrays.\n",
        "- It also has functions for working in domain of **linear algebra, fourier transform, and matrices.**\n",
        "- In Python we have *lists* that serve the purpose of arrays, but they are **slow to process**.\n",
        "- The **array object** in NumPy is called `ndarray`.\n",
        "\n",
        "# Why is NumPy Faster Than Lists?\n",
        "- NumPy arrays are stored at one continuous place in memory unlike lists, so processes can access and manipulate them very efficiently.\n",
        "- This behavior is called locality of reference in computer science."
      ],
      "metadata": {
        "id": "HjozGBPuZd4q"
      }
    },
    {
      "cell_type": "code",
      "source": [
        "import numpy as np\n",
        "print(np.__version__)"
      ],
      "metadata": {
        "colab": {
          "base_uri": "https://localhost:8080/"
        },
        "id": "M2CQjbBQZdd4",
        "outputId": "21d009e7-7f1a-48e1-d859-6fa27a3ba5db"
      },
      "execution_count": 2,
      "outputs": [
        {
          "output_type": "stream",
          "name": "stdout",
          "text": [
            "1.26.4\n"
          ]
        }
      ]
    },
    {
      "cell_type": "code",
      "execution_count": null,
      "metadata": {
        "colab": {
          "base_uri": "https://localhost:8080/"
        },
        "id": "7zR_9hYLZJkB",
        "outputId": "e39c7dc2-c911-4290-d5aa-5e4d920e2fac"
      },
      "outputs": [
        {
          "output_type": "stream",
          "name": "stdout",
          "text": [
            "[1 2 3 4 5] <class 'numpy.ndarray'>\n"
          ]
        }
      ],
      "source": [
        "arr=np.array([i for i in range(1,6)])\n",
        "print(arr,type(arr))"
      ]
    },
    {
      "cell_type": "code",
      "source": [
        "narr=[[False]*3 for _ in range(2)]\n",
        "print(type(narr),narr)\n",
        "narr=np.array(narr)\n",
        "print(type(narr),narr)"
      ],
      "metadata": {
        "id": "O4KK_J49cIG9",
        "colab": {
          "base_uri": "https://localhost:8080/"
        },
        "outputId": "8e795262-b17a-403e-f6ae-a8c195f62f77"
      },
      "execution_count": null,
      "outputs": [
        {
          "output_type": "stream",
          "name": "stdout",
          "text": [
            "<class 'list'> [[False, False, False], [False, False, False]]\n",
            "<class 'numpy.ndarray'> [[False False False]\n",
            " [False False False]]\n"
          ]
        }
      ]
    },
    {
      "cell_type": "code",
      "source": [
        "print(narr.ndim)#dimension of array\n",
        "narr1=np.array([1,2,3,4],ndmin=5)#define the number of dimensions by using the ndmin argument.\n",
        "print(narr1,narr1.ndim)"
      ],
      "metadata": {
        "colab": {
          "base_uri": "https://localhost:8080/"
        },
        "id": "koBAmHoRcf5S",
        "outputId": "334e7fdb-eefc-4cfb-b8fe-44ab72e46525"
      },
      "execution_count": null,
      "outputs": [
        {
          "output_type": "stream",
          "name": "stdout",
          "text": [
            "2\n",
            "[[[[[1 2 3 4]]]]] 5\n"
          ]
        }
      ]
    },
    {
      "cell_type": "code",
      "source": [
        "arr2D=np.array([[1,2,3,4],[5,6,7,8]])\n",
        "arr1D=np.array([1,2,3,4])\n",
        "print(arr1D,'\\n',arr2D)"
      ],
      "metadata": {
        "colab": {
          "base_uri": "https://localhost:8080/"
        },
        "id": "QDu2-UtgdrAw",
        "outputId": "d453a089-5245-4f1b-d5f2-8a52c7696ccf"
      },
      "execution_count": null,
      "outputs": [
        {
          "output_type": "stream",
          "name": "stdout",
          "text": [
            "[1 2 3 4] \n",
            " [[1 2 3 4]\n",
            " [5 6 7 8]]\n"
          ]
        }
      ]
    },
    {
      "cell_type": "markdown",
      "source": [
        "#### Access 2-D Arrays\n",
        "- To access elements from 2-D arrays we can use comma separated integers representing the dimension and the index of the element."
      ],
      "metadata": {
        "id": "e5yTLVVPegR2"
      }
    },
    {
      "cell_type": "code",
      "source": [
        "print(arr2D[1,2],arr2D[-1,-1])#negative indexing to access an array from the end."
      ],
      "metadata": {
        "colab": {
          "base_uri": "https://localhost:8080/"
        },
        "id": "dvOxFqkkef-I",
        "outputId": "d1a61b94-1016-4410-f5a2-56cd583519ec"
      },
      "execution_count": null,
      "outputs": [
        {
          "output_type": "stream",
          "name": "stdout",
          "text": [
            "7 8\n"
          ]
        }
      ]
    },
    {
      "cell_type": "code",
      "source": [
        "arrx = np.array([[10, 20, 30, 40], [50, 60, 70, 80]])\n",
        "print(arrx[-1,0])"
      ],
      "metadata": {
        "colab": {
          "base_uri": "https://localhost:8080/"
        },
        "id": "6sAkqzQoeoOK",
        "outputId": "fc72b196-1e71-46a5-cb73-2eb76ee3a43a"
      },
      "execution_count": null,
      "outputs": [
        {
          "output_type": "stream",
          "name": "stdout",
          "text": [
            "50\n"
          ]
        }
      ]
    },
    {
      "cell_type": "code",
      "source": [
        "print(arr,arr[:1],arr[1:],arr[::2],arr[::-1],arr[::-2])"
      ],
      "metadata": {
        "colab": {
          "base_uri": "https://localhost:8080/"
        },
        "id": "L46n-POXfe5M",
        "outputId": "f989e930-203a-4f6c-e445-6345ca0ea156"
      },
      "execution_count": null,
      "outputs": [
        {
          "output_type": "stream",
          "name": "stdout",
          "text": [
            "[1 2 3 4 5] [1] [2 3 4 5] [1 3 5] [5 4 3 2 1] [5 3 1]\n"
          ]
        }
      ]
    },
    {
      "cell_type": "code",
      "source": [
        "print(arr2D[1,2:],'\\n',arr2D)\n"
      ],
      "metadata": {
        "colab": {
          "base_uri": "https://localhost:8080/"
        },
        "id": "5elnneVVgIhE",
        "outputId": "ebc14564-94ff-47de-8112-e09a3ec12d05"
      },
      "execution_count": null,
      "outputs": [
        {
          "output_type": "stream",
          "name": "stdout",
          "text": [
            "[7 8] \n",
            " [[1 2 3 4]\n",
            " [5 6 7 8]]\n"
          ]
        }
      ]
    },
    {
      "cell_type": "code",
      "source": [
        "print(arr2D[0:,1:])"
      ],
      "metadata": {
        "colab": {
          "base_uri": "https://localhost:8080/"
        },
        "id": "wQo2eqrKgi7Y",
        "outputId": "989bc45a-b21d-4418-8ee7-3d98701cf4e4"
      },
      "execution_count": null,
      "outputs": [
        {
          "output_type": "stream",
          "name": "stdout",
          "text": [
            "[[2 3 4]\n",
            " [6 7 8]]\n"
          ]
        }
      ]
    },
    {
      "cell_type": "markdown",
      "source": [
        "### **DATA TYPES**\n",
        "- string\n",
        "- integer\n",
        "- float\n",
        "- boolean\n",
        "- complex\n",
        "### checking data type\n",
        "- The NumPy array object has a property called dtype that returns the data type of the array\n",
        "\n",
        "### Data types in numpy\n",
        "- i - integer\n",
        "- b - boolean\n",
        "- u - unsigned integer\n",
        "- f - float\n",
        "- c - complex float\n",
        "- m - timedelta\n",
        "- M - datetime\n",
        "- O - object\n",
        "- S - string\n",
        "- U - unicode string\n",
        "- V - fixed chunk of memory for other type ( void )\n"
      ],
      "metadata": {
        "id": "UAThh4SohK4G"
      }
    },
    {
      "cell_type": "code",
      "source": [
        "print(arr.dtype)\n",
        "newarr=np.array([1,2,3,4,\"abc\",False])\n",
        "print(newarr.dtype)"
      ],
      "metadata": {
        "colab": {
          "base_uri": "https://localhost:8080/"
        },
        "id": "guHKah6AhrxT",
        "outputId": "2d3fe279-06c0-498b-8b0b-109639f19160"
      },
      "execution_count": null,
      "outputs": [
        {
          "output_type": "stream",
          "name": "stdout",
          "text": [
            "int64\n",
            "<U21\n"
          ]
        }
      ]
    },
    {
      "cell_type": "code",
      "source": [
        "sarr=np.array([1,2,3,4,5],dtype='S')\n",
        "print(sarr,sarr.dtype)"
      ],
      "metadata": {
        "colab": {
          "base_uri": "https://localhost:8080/"
        },
        "id": "D7NVGuy3h4MP",
        "outputId": "0b023a0e-6cd4-430d-ce6a-841eed716006"
      },
      "execution_count": null,
      "outputs": [
        {
          "output_type": "stream",
          "name": "stdout",
          "text": [
            "[b'1' b'2' b'3' b'4' b'5'] |S1\n"
          ]
        }
      ]
    },
    {
      "cell_type": "markdown",
      "source": [
        "> The b in front of the string elements in the array (e.g., b'1', b'2') indicates that the data is in byte-string format rather than the default Unicode string format.\n",
        "\n",
        "- The `astype()` function creates a copy of the array, and allows you to specify the data type as a parameter.\n"
      ],
      "metadata": {
        "id": "Dh6bMXmPjjwU"
      }
    },
    {
      "cell_type": "code",
      "source": [
        "farr=np.array([1.1,1.2,1.3])\n",
        "iarr=farr.astype(int)\n",
        "print(iarr,iarr.dtype)"
      ],
      "metadata": {
        "colab": {
          "base_uri": "https://localhost:8080/"
        },
        "id": "OYKQwIK4ji-p",
        "outputId": "acff9c0e-6bd3-47ed-f844-8a96909e9977"
      },
      "execution_count": 9,
      "outputs": [
        {
          "output_type": "stream",
          "name": "stdout",
          "text": [
            "[1 1 1] int64\n"
          ]
        }
      ]
    },
    {
      "cell_type": "markdown",
      "source": [
        "- The main difference between a **copy** and a **view** of an array is that the copy is a new array, and the view is just a view of the original array."
      ],
      "metadata": {
        "id": "APHvAf9XiE6Y"
      }
    },
    {
      "cell_type": "code",
      "source": [
        "print(iarr)\n",
        "x=iarr.copy()\n",
        "y=iarr.view()\n",
        "x[0]=100\n",
        "print('1',x,y,iarr)\n",
        "y[0]=100\n",
        "print('2',x,y,iarr)"
      ],
      "metadata": {
        "id": "RuDpgZafidag",
        "colab": {
          "base_uri": "https://localhost:8080/"
        },
        "outputId": "0d0776f4-3d26-491c-e8d7-2298c0372d54"
      },
      "execution_count": 10,
      "outputs": [
        {
          "output_type": "stream",
          "name": "stdout",
          "text": [
            "[1 1 1]\n",
            "1 [100   1   1] [1 1 1] [1 1 1]\n",
            "2 [100   1   1] [100   1   1] [100   1   1]\n"
          ]
        }
      ]
    },
    {
      "cell_type": "markdown",
      "source": [
        "- Every NumPy array has the attribute ***base*** that returns `None` if the array owns the data.\n",
        "- The *copy* returns **None**.\n",
        "- The *view* returns the **original array**."
      ],
      "metadata": {
        "id": "YRb2M-psj6V6"
      }
    },
    {
      "cell_type": "code",
      "source": [
        "print(x.base,y.base)"
      ],
      "metadata": {
        "colab": {
          "base_uri": "https://localhost:8080/"
        },
        "id": "Uedr2OPWieBn",
        "outputId": "31aec462-c6f4-4b3c-d78d-d98f0cdc66b8"
      },
      "execution_count": 11,
      "outputs": [
        {
          "output_type": "stream",
          "name": "stdout",
          "text": [
            "None [100   1   1]\n"
          ]
        }
      ]
    },
    {
      "cell_type": "code",
      "source": [],
      "metadata": {
        "id": "vkaRgHKOkBt1"
      },
      "execution_count": null,
      "outputs": []
    }
  ]
}