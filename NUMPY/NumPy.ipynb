{
  "nbformat": 4,
  "nbformat_minor": 0,
  "metadata": {
    "colab": {
      "provenance": [],
      "authorship_tag": "ABX9TyOzp5Aua/PJZcsvTJw4n6Me",
      "include_colab_link": true
    },
    "kernelspec": {
      "name": "python3",
      "display_name": "Python 3"
    },
    "language_info": {
      "name": "python"
    }
  },
  "cells": [
    {
      "cell_type": "markdown",
      "metadata": {
        "id": "view-in-github",
        "colab_type": "text"
      },
      "source": [
        "<a href=\"https://colab.research.google.com/github/themysterysolver/PYTHON_BASICS/blob/main/NUMPY/NumPy.ipynb\" target=\"_parent\"><img src=\"https://colab.research.google.com/assets/colab-badge.svg\" alt=\"Open In Colab\"/></a>"
      ]
    },
    {
      "cell_type": "markdown",
      "source": [
        "# NumPy(Numerical Python)\n",
        "- NumPy is used for working with arrays.\n",
        "- It also has functions for working in domain of **linear algebra, fourier transform, and matrices.**\n",
        "- In Python we have *lists* that serve the purpose of arrays, but they are **slow to process**.\n",
        "- The **array object** in NumPy is called `ndarray`.\n",
        "\n",
        "# Why is NumPy Faster Than Lists?\n",
        "- NumPy arrays are stored at one continuous place in memory unlike lists, so processes can access and manipulate them very efficiently.\n",
        "- This behavior is called locality of reference in computer science."
      ],
      "metadata": {
        "id": "HjozGBPuZd4q"
      }
    },
    {
      "cell_type": "code",
      "source": [
        "import numpy as np\n",
        "print(np.__version__)"
      ],
      "metadata": {
        "colab": {
          "base_uri": "https://localhost:8080/"
        },
        "id": "M2CQjbBQZdd4",
        "outputId": "e7d3deda-3648-4199-822e-724da947db75"
      },
      "execution_count": 4,
      "outputs": [
        {
          "output_type": "stream",
          "name": "stdout",
          "text": [
            "1.26.4\n"
          ]
        }
      ]
    },
    {
      "cell_type": "code",
      "execution_count": 5,
      "metadata": {
        "colab": {
          "base_uri": "https://localhost:8080/"
        },
        "id": "7zR_9hYLZJkB",
        "outputId": "e39c7dc2-c911-4290-d5aa-5e4d920e2fac"
      },
      "outputs": [
        {
          "output_type": "stream",
          "name": "stdout",
          "text": [
            "[1 2 3 4 5] <class 'numpy.ndarray'>\n"
          ]
        }
      ],
      "source": [
        "arr=np.array([i for i in range(1,6)])\n",
        "print(arr,type(arr))"
      ]
    },
    {
      "cell_type": "code",
      "source": [
        "narr=[[False]*3 for _ in range(2)]\n",
        "print(type(narr),narr)\n",
        "narr=np.array(narr)\n",
        "print(type(narr),narr)"
      ],
      "metadata": {
        "id": "O4KK_J49cIG9",
        "colab": {
          "base_uri": "https://localhost:8080/"
        },
        "outputId": "8e795262-b17a-403e-f6ae-a8c195f62f77"
      },
      "execution_count": 6,
      "outputs": [
        {
          "output_type": "stream",
          "name": "stdout",
          "text": [
            "<class 'list'> [[False, False, False], [False, False, False]]\n",
            "<class 'numpy.ndarray'> [[False False False]\n",
            " [False False False]]\n"
          ]
        }
      ]
    },
    {
      "cell_type": "code",
      "source": [
        "print(narr.ndim)#dimension of array\n",
        "narr1=np.array([1,2,3,4],ndmin=5)#define the number of dimensions by using the ndmin argument.\n",
        "print(narr1,narr1.ndim)"
      ],
      "metadata": {
        "colab": {
          "base_uri": "https://localhost:8080/"
        },
        "id": "koBAmHoRcf5S",
        "outputId": "334e7fdb-eefc-4cfb-b8fe-44ab72e46525"
      },
      "execution_count": 11,
      "outputs": [
        {
          "output_type": "stream",
          "name": "stdout",
          "text": [
            "2\n",
            "[[[[[1 2 3 4]]]]] 5\n"
          ]
        }
      ]
    },
    {
      "cell_type": "code",
      "source": [
        "arr2D=np.array([[1,2,3,4],[5,6,7,8]])\n",
        "arr1D=np.array([1,2,3,4])\n",
        "print(arr1D,'\\n',arr2D)"
      ],
      "metadata": {
        "colab": {
          "base_uri": "https://localhost:8080/"
        },
        "id": "QDu2-UtgdrAw",
        "outputId": "d453a089-5245-4f1b-d5f2-8a52c7696ccf"
      },
      "execution_count": 13,
      "outputs": [
        {
          "output_type": "stream",
          "name": "stdout",
          "text": [
            "[1 2 3 4] \n",
            " [[1 2 3 4]\n",
            " [5 6 7 8]]\n"
          ]
        }
      ]
    },
    {
      "cell_type": "markdown",
      "source": [
        "#### Access 2-D Arrays\n",
        "- To access elements from 2-D arrays we can use comma separated integers representing the dimension and the index of the element."
      ],
      "metadata": {
        "id": "e5yTLVVPegR2"
      }
    },
    {
      "cell_type": "code",
      "source": [
        "print(arr2D[1,2],arr2D[-1,-1])#negative indexing to access an array from the end."
      ],
      "metadata": {
        "colab": {
          "base_uri": "https://localhost:8080/"
        },
        "id": "dvOxFqkkef-I",
        "outputId": "d1a61b94-1016-4410-f5a2-56cd583519ec"
      },
      "execution_count": 16,
      "outputs": [
        {
          "output_type": "stream",
          "name": "stdout",
          "text": [
            "7 8\n"
          ]
        }
      ]
    },
    {
      "cell_type": "code",
      "source": [
        "arrx = np.array([[10, 20, 30, 40], [50, 60, 70, 80]])\n",
        "print(arrx[-1,0])"
      ],
      "metadata": {
        "colab": {
          "base_uri": "https://localhost:8080/"
        },
        "id": "6sAkqzQoeoOK",
        "outputId": "fc72b196-1e71-46a5-cb73-2eb76ee3a43a"
      },
      "execution_count": 18,
      "outputs": [
        {
          "output_type": "stream",
          "name": "stdout",
          "text": [
            "50\n"
          ]
        }
      ]
    },
    {
      "cell_type": "code",
      "source": [],
      "metadata": {
        "id": "L46n-POXfe5M"
      },
      "execution_count": null,
      "outputs": []
    }
  ]
}