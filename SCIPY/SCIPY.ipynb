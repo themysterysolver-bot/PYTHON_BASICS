{
  "nbformat": 4,
  "nbformat_minor": 0,
  "metadata": {
    "colab": {
      "provenance": [],
      "authorship_tag": "ABX9TyOkDzeEmMxRrllCPDSzhfbt",
      "include_colab_link": true
    },
    "kernelspec": {
      "name": "python3",
      "display_name": "Python 3"
    },
    "language_info": {
      "name": "python"
    }
  },
  "cells": [
    {
      "cell_type": "markdown",
      "metadata": {
        "id": "view-in-github",
        "colab_type": "text"
      },
      "source": [
        "<a href=\"https://colab.research.google.com/github/themysterysolver/PYTHON_BASICS/blob/main/SCIPY/SCIPY.ipynb\" target=\"_parent\"><img src=\"https://colab.research.google.com/assets/colab-badge.svg\" alt=\"Open In Colab\"/></a>"
      ]
    },
    {
      "cell_type": "markdown",
      "source": [
        "## SciPy\n",
        "- SciPy is a scientific computation library that uses NumPy underneath.\n",
        "- SciPy stands for Scientific Python."
      ],
      "metadata": {
        "id": "pNkYUKcvxSpi"
      }
    },
    {
      "cell_type": "code",
      "execution_count": null,
      "metadata": {
        "id": "kb444b51DUWH",
        "colab": {
          "base_uri": "https://localhost:8080/"
        },
        "outputId": "182ff697-2b14-49e3-eb58-8d7b4951dc11"
      },
      "outputs": [
        {
          "output_type": "stream",
          "name": "stdout",
          "text": [
            "1.13.1\n"
          ]
        }
      ],
      "source": [
        "import scipy\n",
        "print(scipy.__version__)"
      ]
    },
    {
      "cell_type": "markdown",
      "source": [
        "## CONSTANTS\n",
        "- PI is an example of a scientific constant."
      ],
      "metadata": {
        "id": "PvrpYsaQx9hz"
      }
    },
    {
      "cell_type": "code",
      "source": [
        "from scipy import constants\n",
        "print(constants.pi)"
      ],
      "metadata": {
        "colab": {
          "base_uri": "https://localhost:8080/"
        },
        "id": "7isSVuebwybU",
        "outputId": "11d6377e-c51a-4ff5-d415-090b1a5f81ae"
      },
      "execution_count": null,
      "outputs": [
        {
          "output_type": "stream",
          "name": "stdout",
          "text": [
            "3.141592653589793\n"
          ]
        }
      ]
    },
    {
      "cell_type": "code",
      "source": [
        "print(dir(constants))"
      ],
      "metadata": {
        "id": "35pihfXDDZ9I",
        "colab": {
          "base_uri": "https://localhost:8080/"
        },
        "outputId": "f4094b25-38dd-42e5-f315-6bfb281587fd"
      },
      "execution_count": null,
      "outputs": [
        {
          "output_type": "stream",
          "name": "stdout",
          "text": [
            "['Avogadro', 'Boltzmann', 'Btu', 'Btu_IT', 'Btu_th', 'ConstantWarning', 'G', 'Julian_year', 'N_A', 'Planck', 'R', 'Rydberg', 'Stefan_Boltzmann', 'Wien', '__all__', '__builtins__', '__cached__', '__doc__', '__file__', '__loader__', '__name__', '__package__', '__path__', '__spec__', '_codata', '_constants', '_obsolete_constants', 'acre', 'alpha', 'angstrom', 'arcmin', 'arcminute', 'arcsec', 'arcsecond', 'astronomical_unit', 'atm', 'atmosphere', 'atomic_mass', 'atto', 'au', 'bar', 'barrel', 'bbl', 'blob', 'c', 'calorie', 'calorie_IT', 'calorie_th', 'carat', 'centi', 'codata', 'constants', 'convert_temperature', 'day', 'deci', 'degree', 'degree_Fahrenheit', 'deka', 'dyn', 'dyne', 'e', 'eV', 'electron_mass', 'electron_volt', 'elementary_charge', 'epsilon_0', 'erg', 'exa', 'exbi', 'femto', 'fermi', 'find', 'fine_structure', 'fluid_ounce', 'fluid_ounce_US', 'fluid_ounce_imp', 'foot', 'g', 'gallon', 'gallon_US', 'gallon_imp', 'gas_constant', 'gibi', 'giga', 'golden', 'golden_ratio', 'grain', 'gram', 'gravitational_constant', 'h', 'hbar', 'hectare', 'hecto', 'horsepower', 'hour', 'hp', 'inch', 'k', 'kgf', 'kibi', 'kilo', 'kilogram_force', 'kmh', 'knot', 'lambda2nu', 'lb', 'lbf', 'light_year', 'liter', 'litre', 'long_ton', 'm_e', 'm_n', 'm_p', 'm_u', 'mach', 'mebi', 'mega', 'metric_ton', 'micro', 'micron', 'mil', 'mile', 'milli', 'minute', 'mmHg', 'mph', 'mu_0', 'nano', 'nautical_mile', 'neutron_mass', 'nu2lambda', 'ounce', 'oz', 'parsec', 'pebi', 'peta', 'physical_constants', 'pi', 'pico', 'point', 'pound', 'pound_force', 'precision', 'proton_mass', 'psi', 'pt', 'quecto', 'quetta', 'ronna', 'ronto', 'short_ton', 'sigma', 'slinch', 'slug', 'speed_of_light', 'speed_of_sound', 'stone', 'survey_foot', 'survey_mile', 'tebi', 'tera', 'test', 'ton_TNT', 'torr', 'troy_ounce', 'troy_pound', 'u', 'unit', 'value', 'week', 'yard', 'year', 'yobi', 'yocto', 'yotta', 'zebi', 'zepto', 'zero_Celsius', 'zetta']\n"
          ]
        }
      ]
    },
    {
      "cell_type": "markdown",
      "source": [
        "Unit Categories\n",
        "The units are placed under these categories:\n",
        "\n",
        "1. Metric\n",
        "2. Binary\n",
        "3. Mass\n",
        "4. Angle\n",
        "5. Time\n",
        "6. Length\n",
        "7. Pressure\n",
        "8. Volume\n",
        "9. Speed\n",
        "10. Temperature\n",
        "11. Energy\n",
        "12. Power\n",
        "13. Force"
      ],
      "metadata": {
        "id": "P9xuYrgWybXk"
      }
    },
    {
      "cell_type": "code",
      "source": [
        "print(constants.centi,constants.kilo,constants.nano,constants.micro,constants.mega,constants.pico) # mass in m"
      ],
      "metadata": {
        "colab": {
          "base_uri": "https://localhost:8080/"
        },
        "id": "bb9euG6OyOx6",
        "outputId": "b80e620c-7ef3-4553-91da-0ca9abf91e2a"
      },
      "execution_count": null,
      "outputs": [
        {
          "output_type": "stream",
          "name": "stdout",
          "text": [
            "0.01 1000.0 1e-09 1e-06 1000000.0 1e-12\n"
          ]
        }
      ]
    },
    {
      "cell_type": "code",
      "source": [
        "print(constants.sec,constants.year) # time in s"
      ],
      "metadata": {
        "id": "aUSQavxPy9MJ"
      },
      "execution_count": null,
      "outputs": []
    },
    {
      "cell_type": "markdown",
      "source": [
        "## Optimizers in SciPy\n",
        "\n",
        "- Optimizers are a set of procedures defined in SciPy that either find the **minimum** value of a function, or the **root** of an equation.\n",
        "- **NumPy** is capable of finding roots for *polynomials and linear equations*.\n",
        "- Optimizing Functions:Essentially, all of the algorithms in Machine Learning are nothing more than a *complex equation that needs to be minimized with the help of given data*.\n",
        "- `optimize.root` function.\n",
        "- This function takes two required arguments:\n",
        "    - fun - a function representing an equation.\n",
        "    - x0 - an initial guess for the root.\n",
        "\n",
        "- The function returns an ***object*** with information regarding the solution.\n",
        "- The actual solution is given under `attribute x` of the returned object\n",
        "\n",
        "- it can not find roots for non linear equations, like this one:x + cos(x)\n",
        "  - Yes, non-linear equations can have solutions. A non-linear equation is one in which the relationship between the variables is not linear (i.e., it cannot be represented by a straight line). These equations can have various forms, such as quadratic, cubic, exponential, logarithmic, trigonometric, and more.\n",
        "  - Solutions of Non-linear Equations:\n",
        "      - Single Solution: Some non-linear equations may have only one solution. For example, a simple quadratic equation\n",
        "      - Multiple Solutions: Other non-linear equations may have multiple solutions.\n",
        "      - No Real Solution: Some non-linear equations may have no real solution, but they might have complex solutions.\n",
        "      - Infinite Solutions: Certain non-linear equations or systems can have infinitely many solutions, depending on their nature."
      ],
      "metadata": {
        "id": "sT66hqTP0F26"
      }
    },
    {
      "cell_type": "code",
      "source": [
        "from scipy.optimize import root\n",
        "from math import cos\n",
        "def eqn(x):\n",
        "  return x+cos(x)\n",
        "rt=root(eqn,0)\n",
        "print(rt.x)\n",
        "print(rt)"
      ],
      "metadata": {
        "id": "otKX77sp4ve5",
        "colab": {
          "base_uri": "https://localhost:8080/"
        },
        "outputId": "8d552360-3a00-4d3b-a973-d810a3768a98"
      },
      "execution_count": 1,
      "outputs": [
        {
          "output_type": "stream",
          "name": "stdout",
          "text": [
            "[-0.73908513]\n",
            " message: The solution converged.\n",
            " success: True\n",
            "  status: 1\n",
            "     fun: [ 0.000e+00]\n",
            "       x: [-7.391e-01]\n",
            "  method: hybr\n",
            "    nfev: 9\n",
            "    fjac: [[-1.000e+00]]\n",
            "       r: [-1.674e+00]\n",
            "     qtf: [-2.668e-13]\n"
          ]
        },
        {
          "output_type": "stream",
          "name": "stderr",
          "text": [
            "<ipython-input-1-6882a9c84287>:4: DeprecationWarning: Conversion of an array with ndim > 0 to a scalar is deprecated, and will error in future. Ensure you extract a single element from your array before performing this operation. (Deprecated NumPy 1.25.)\n",
            "  return x+cos(x)\n"
          ]
        }
      ]
    }
  ]
}