{
  "nbformat": 4,
  "nbformat_minor": 0,
  "metadata": {
    "colab": {
      "provenance": [],
      "authorship_tag": "ABX9TyPrkn+UhuqE5cpReZvYKJ8M",
      "include_colab_link": true
    },
    "kernelspec": {
      "name": "python3",
      "display_name": "Python 3"
    },
    "language_info": {
      "name": "python"
    }
  },
  "cells": [
    {
      "cell_type": "markdown",
      "metadata": {
        "id": "view-in-github",
        "colab_type": "text"
      },
      "source": [
        "<a href=\"https://colab.research.google.com/github/themysterysolver/PYTHON_BASICS/blob/main/PANDAS/Practise_pandas.ipynb\" target=\"_parent\"><img src=\"https://colab.research.google.com/assets/colab-badge.svg\" alt=\"Open In Colab\"/></a>"
      ]
    },
    {
      "cell_type": "code",
      "execution_count": 6,
      "metadata": {
        "id": "obulkJ6k4M_k"
      },
      "outputs": [],
      "source": [
        "import pandas as pd"
      ]
    },
    {
      "cell_type": "markdown",
      "source": [
        "Pandas stands for panel data.\n",
        "---\n",
        "Pandas are also able to delete rows that are not relevant, or contains wrong values, like empty or NULL values. This is called cleaning the data.\n"
      ],
      "metadata": {
        "id": "hHWrg6xE8hn3"
      }
    },
    {
      "cell_type": "code",
      "source": [
        "print(pd.__version__)"
      ],
      "metadata": {
        "colab": {
          "base_uri": "https://localhost:8080/"
        },
        "id": "b93XBPRV8ETD",
        "outputId": "1a6215b4-12a0-4dba-b316-7b2bbae5b64b"
      },
      "execution_count": 3,
      "outputs": [
        {
          "output_type": "stream",
          "name": "stdout",
          "text": [
            "2.2.2\n"
          ]
        }
      ]
    },
    {
      "cell_type": "markdown",
      "source": [
        "Series\n",
        "---\n",
        "A Pandas Series is like a ***column*** in a table.\n",
        "\n",
        "It is a one-dimensional array holding data of any type.\n",
        "With the index argument, you can name your own labels"
      ],
      "metadata": {
        "id": "6AxleDAY9lWx"
      }
    },
    {
      "cell_type": "code",
      "source": [
        "a=[1,3,5,7,9]\n",
        "s=pd.Series(a)\n",
        "print(s)"
      ],
      "metadata": {
        "colab": {
          "base_uri": "https://localhost:8080/"
        },
        "id": "7MY1-6VT9w75",
        "outputId": "ccbb6977-bade-4977-c40b-3cda9471670f"
      },
      "execution_count": 7,
      "outputs": [
        {
          "output_type": "stream",
          "name": "stdout",
          "text": [
            "0    1\n",
            "1    3\n",
            "2    5\n",
            "3    7\n",
            "4    9\n",
            "dtype: int64\n"
          ]
        }
      ]
    },
    {
      "cell_type": "code",
      "source": [
        "s=pd.Series(a,index=[\"p\",\"q\",\"x\",\"y\",\"z\"])\n"
      ],
      "metadata": {
        "id": "27AHaGX995q-"
      },
      "execution_count": 8,
      "outputs": []
    },
    {
      "cell_type": "code",
      "source": [
        "print(s)"
      ],
      "metadata": {
        "colab": {
          "base_uri": "https://localhost:8080/"
        },
        "id": "grksV5G6-TVr",
        "outputId": "62c840b0-3c90-4d19-f7bd-73d77e2f9e26"
      },
      "execution_count": 9,
      "outputs": [
        {
          "output_type": "stream",
          "name": "stdout",
          "text": [
            "p    1\n",
            "q    3\n",
            "x    5\n",
            "y    7\n",
            "z    9\n",
            "dtype: int64\n"
          ]
        }
      ]
    },
    {
      "cell_type": "code",
      "source": [
        "print(s[\"y\"])"
      ],
      "metadata": {
        "colab": {
          "base_uri": "https://localhost:8080/"
        },
        "id": "RclyPT0M-VnV",
        "outputId": "08a71bbb-7a06-4890-d76e-e82ebfba2417"
      },
      "execution_count": 10,
      "outputs": [
        {
          "output_type": "stream",
          "name": "stdout",
          "text": [
            "7\n"
          ]
        }
      ]
    },
    {
      "cell_type": "code",
      "source": [
        "d={i:i+1 for i in range(1,5)}"
      ],
      "metadata": {
        "id": "pEnyFzVj_BMy"
      },
      "execution_count": 11,
      "outputs": []
    },
    {
      "cell_type": "code",
      "source": [
        "print(d)"
      ],
      "metadata": {
        "colab": {
          "base_uri": "https://localhost:8080/"
        },
        "id": "aOBrG6TQ_IAM",
        "outputId": "56f11d2e-095e-4e71-9d1a-b22581188fed"
      },
      "execution_count": 12,
      "outputs": [
        {
          "output_type": "stream",
          "name": "stdout",
          "text": [
            "{1: 2, 2: 3, 3: 4, 4: 5}\n"
          ]
        }
      ]
    },
    {
      "cell_type": "markdown",
      "source": [
        "- To select only some of the items in the dictionary, use the index argument and specify only the items you want to include in the Series.\n",
        "- The keys of the dictionary become the labels.\n",
        "-  use a key/value object, like a dictionary, when creating a Series."
      ],
      "metadata": {
        "id": "KtRhSfYn_qtV"
      }
    },
    {
      "cell_type": "code",
      "source": [
        "ns=pd.Series(d)\n",
        "print(ns)\n",
        "ns1=pd.Series(d,index=[1,2,3])\n",
        "print(ns1)"
      ],
      "metadata": {
        "colab": {
          "base_uri": "https://localhost:8080/"
        },
        "id": "BSdJ7Li4_NFv",
        "outputId": "e660b395-0183-435e-dd17-da613c4095b4"
      },
      "execution_count": 17,
      "outputs": [
        {
          "output_type": "stream",
          "name": "stdout",
          "text": [
            "1    2\n",
            "2    3\n",
            "3    4\n",
            "4    5\n",
            "dtype: int64\n",
            "1    2\n",
            "2    3\n",
            "3    4\n",
            "dtype: int64\n"
          ]
        }
      ]
    },
    {
      "cell_type": "markdown",
      "source": [
        "# DataFrames\n",
        "- Data sets in Pandas are usually multi-dimensional tables, called DataFrames.\n",
        "- Series is like a column, a DataFrame is the whole table.\n",
        "- ***pd.DataFrame()***.It returns a DataFrame object, which is a container for structured data.\n",
        "- A Pandas DataFrame is a 2 dimensional data structure, like a 2 dimensional array, or a table with rows and columns.\n",
        "- When you use **pd.read_csv()** to read a CSV file, it loads the content of the CSV file into a Pandas DataFrame objec"
      ],
      "metadata": {
        "id": "C-oWtN9X__XR"
      }
    },
    {
      "cell_type": "code",
      "source": [
        "iris=pd.read_csv('iris.csv')"
      ],
      "metadata": {
        "id": "NEsJYHqP_-xT"
      },
      "execution_count": 7,
      "outputs": []
    },
    {
      "cell_type": "code",
      "source": [
        "print(iris)\n"
      ],
      "metadata": {
        "colab": {
          "base_uri": "https://localhost:8080/"
        },
        "id": "IRl9uPdA_RRa",
        "outputId": "2e4c94ed-61ba-46d1-b4ff-009f4f10f765"
      },
      "execution_count": 19,
      "outputs": [
        {
          "output_type": "stream",
          "name": "stdout",
          "text": [
            "     sepal.length  sepal.width  petal.length  petal.width    variety\n",
            "0             5.1          3.5           1.4          0.2     Setosa\n",
            "1             4.9          3.0           1.4          0.2     Setosa\n",
            "2             4.7          3.2           1.3          0.2     Setosa\n",
            "3             4.6          3.1           1.5          0.2     Setosa\n",
            "4             5.0          3.6           1.4          0.2     Setosa\n",
            "..            ...          ...           ...          ...        ...\n",
            "145           6.7          3.0           5.2          2.3  Virginica\n",
            "146           6.3          2.5           5.0          1.9  Virginica\n",
            "147           6.5          3.0           5.2          2.0  Virginica\n",
            "148           6.2          3.4           5.4          2.3  Virginica\n",
            "149           5.9          3.0           5.1          1.8  Virginica\n",
            "\n",
            "[150 rows x 5 columns]\n"
          ]
        }
      ]
    },
    {
      "cell_type": "markdown",
      "source": [
        "- Locate Row:loc()\n",
        "- Pandas use the loc attribute to return one or more specified row(s)\n"
      ],
      "metadata": {
        "id": "ywd_DmJDCkEk"
      }
    },
    {
      "cell_type": "code",
      "source": [
        "print(iris.loc[0])"
      ],
      "metadata": {
        "colab": {
          "base_uri": "https://localhost:8080/"
        },
        "id": "pbEqcC6HCaXP",
        "outputId": "eaab5545-7297-4c77-998a-365f0074c416"
      },
      "execution_count": 8,
      "outputs": [
        {
          "output_type": "stream",
          "name": "stdout",
          "text": [
            "sepal.length       5.1\n",
            "sepal.width        3.5\n",
            "petal.length       1.4\n",
            "petal.width        0.2\n",
            "variety         Setosa\n",
            "Name: 0, dtype: object\n"
          ]
        }
      ]
    }
  ]
}